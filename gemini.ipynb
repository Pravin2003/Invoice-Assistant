{
 "cells": [
  {
   "cell_type": "code",
   "execution_count": 1,
   "metadata": {},
   "outputs": [
    {
     "name": "stderr",
     "output_type": "stream",
     "text": [
      "/Library/Frameworks/Python.framework/Versions/3.11/lib/python3.11/site-packages/tqdm/auto.py:21: TqdmWarning: IProgress not found. Please update jupyter and ipywidgets. See https://ipywidgets.readthedocs.io/en/stable/user_install.html\n",
      "  from .autonotebook import tqdm as notebook_tqdm\n"
     ]
    }
   ],
   "source": [
    "import os\n",
    "from langchain_community.document_loaders import PyPDFLoader\n",
    "from langchain_google_genai import GoogleGenerativeAIEmbeddings, ChatGoogleGenerativeAI\n",
    "from langchain_community.vectorstores import Chroma\n",
    "from langchain.prompts import ChatPromptTemplate\n",
    "import google.generativeai as genai\n",
    "from langchain.schema.output_parser import StrOutputParser"
   ]
  },
  {
   "cell_type": "code",
   "execution_count": 2,
   "metadata": {},
   "outputs": [],
   "source": [
    "# Retrieve the Google API key from environment variables\n",
    "google_api_key = os.getenv(\"GOOGLE_API_KEY\")\n",
    "\n",
    "# Check if the API key is set\n",
    "if google_api_key is None:\n",
    "    raise ValueError(\"GOOGLE_API_KEY environment variable is not set\")"
   ]
  },
  {
   "cell_type": "code",
   "execution_count": 3,
   "metadata": {},
   "outputs": [],
   "source": [
    "# Load and process the PDF \n",
    "file_path = \"sample/sample-invoice.pdf\" #Upload your file here\n",
    "loader = PyPDFLoader(file_path)\n",
    "docs = loader.load()"
   ]
  },
  {
   "cell_type": "code",
   "execution_count": 4,
   "metadata": {},
   "outputs": [
    {
     "name": "stdout",
     "output_type": "stream",
     "text": [
      "Number of documents: 1\n",
      "First 100 characters of first document:  Tax Invoice/Bill of Supply/Cash Memo\n",
      "(Original for Recipient)\n",
      "*ASSPL-Amazon Seller Services Pvt. Lt\n",
      "Metadata of first document: {'source': 'invoice (1).pdf', 'page': 0}\n"
     ]
    }
   ],
   "source": [
    "print(f\"Number of documents: {len(docs)}\")\n",
    "print(f\"First 100 characters of first document: {docs[0].page_content[:100]}\")\n",
    "print(f\"Metadata of first document: {docs[0].metadata}\")"
   ]
  },
  {
   "cell_type": "code",
   "execution_count": 5,
   "metadata": {},
   "outputs": [
    {
     "name": "stderr",
     "output_type": "stream",
     "text": [
      "WARNING: All log messages before absl::InitializeLog() is called are written to STDERR\n",
      "I0000 00:00:1723119948.464706  170233 config.cc:230] gRPC experiments enabled: call_status_override_on_cancellation, event_engine_dns, event_engine_listener, http2_stats_fix, monitoring_experiment, pick_first_new, trace_record_callops, work_serializer_clears_time_cache\n",
      "I0000 00:00:1723119948.474559  170233 check_gcp_environment_no_op.cc:29] ALTS: Platforms other than Linux and Windows are not supported\n"
     ]
    }
   ],
   "source": [
    "# Set up the embeddings and vectorstore\n",
    "embeddings = GoogleGenerativeAIEmbeddings(model=\"models/embedding-001\")\n",
    "vectorstore = Chroma.from_documents(documents=docs, embedding=embeddings)\n",
    "retriever = vectorstore.as_retriever()"
   ]
  },
  {
   "cell_type": "code",
   "execution_count": 6,
   "metadata": {},
   "outputs": [],
   "source": [
    "# Define the knowledge base with invoice-related information\n",
    "knowledge_base = {\n",
    "    \"invoice_number\": \"A unique identifier assigned to each invoice for tracking and reference purposes.\",\n",
    "    \"order_number\": \"A unique identifier assigned to the customer's order.\",\n",
    "    \"order_date\": \"The date when the order was placed by the customer.\",\n",
    "    \"invoice_date\": \"The date when the invoice was generated.\",\n",
    "    \"seller\": {\n",
    "        \"name\": \"The name of the business selling the product or service.\",\n",
    "        \"pan_number\": \"The seller's Permanent Account Number (PAN) for tax purposes.\",\n",
    "        \"gst_number\": \"The seller's Goods and Services Tax (GST) number.\",\n",
    "        \"address\": \"The physical address of the seller.\"\n",
    "    },\n",
    "    \"billing_address\": \"The address provided by the customer for billing purposes.\",\n",
    "    \"shipping_address\": \"The address where the goods are to be delivered.\",\n",
    "    \"place_of_supply\": \"The state or union territory where the goods are supplied.\",\n",
    "    \"item_details\": {\n",
    "        \"description\": \"The description of the item purchased.\",\n",
    "        \"code_number\": \"The code number (HSN) associated with the item.\",\n",
    "        \"hsn_number\": \"HSN stands for Harmonized System of Nomenclature. It is a globally standardized system of names and numbers used to classify traded products.\",\n",
    "        \"unit_price\": \"The price per unit of the item.\",\n",
    "        \"quantity\": \"The number of units purchased.\",\n",
    "        \"total_price\": \"The total cost of the item before taxes.\",\n",
    "        \"tax_rate\": \"The percentage of tax applied.\",\n",
    "        \"tax_amount\": \"The amount of tax charged on the item.\",\n",
    "        \"final_amount\": \"The final amount payable for the item including tax.\"\n",
    "    },\n",
    "    \"shipping_charges\": \"The cost of shipping the item, after any discounts.\",\n",
    "    \"reverse_charge\": \"Indicates whether tax is payable under reverse charge.\",\n",
    "    \"amount_in_words\": \"The total amount due, expressed in words.\"\n",
    "}"
   ]
  },
  {
   "cell_type": "code",
   "execution_count": 7,
   "metadata": {},
   "outputs": [],
   "source": [
    "# Define the system prompt used for generating responses\n",
    "system_prompt = \"\"\"\n",
    "Context: {context}\n",
    "\n",
    "You are a document analysis assistant specializing in invoices. Your primary task is to extract accurate and relevant information directly from the provided invoice.\n",
    "\n",
    "Focus solely on the invoice content to answer the user's question. Do not reference or utilize any external knowledge or information beyond what is explicitly stated within the invoice. \n",
    "\n",
    "**Provide answers in a clear and concise format, using bullet points or numbered lists where appropriate.**\n",
    "\n",
    "If the user's question requires calculations, comparisons, or summaries based on invoice data, provide a quantitative response.\n",
    "\n",
    "If the user's question is vague or requests general information about invoices, provide definitions, explanations, or examples related to invoice components.\n",
    "\n",
    "User Question: {question}\n",
    "\"\"\"\n"
   ]
  },
  {
   "cell_type": "code",
   "execution_count": 8,
   "metadata": {},
   "outputs": [],
   "source": [
    "# Function to generate answers using LLM\n",
    "def llm_ans(chat_input, history, knowledge_base):\n",
    "    global system_prompt\n",
    "    prompt2 = f\"\"\"{system_prompt}\\n {history}\"\"\"\n",
    "    prompt = ChatPromptTemplate.from_template(prompt2)  \n",
    "\n",
    "    llm = ChatGoogleGenerativeAI(model=\"gemini-1.5-pro\", temperature=0)\n",
    "    chain = (\n",
    "        {\"context\": retriever, \"knowledge_base\": lambda _: str(knowledge_base), \"question\": lambda x: x}\n",
    "        | prompt\n",
    "        | llm\n",
    "        | StrOutputParser()\n",
    "    )\n",
    "    return chain.invoke(chat_input)\n"
   ]
  },
  {
   "cell_type": "code",
   "execution_count": 9,
   "metadata": {},
   "outputs": [],
   "source": [
    "def get_user_question():\n",
    "    return input(\"Please enter your question about the invoice: \")\n",
    "\n",
    "def process_question(question, history, knowledge_base):\n",
    "    try:\n",
    "        response = llm_ans(question, history, knowledge_base)\n",
    "        return response\n",
    "    except Exception as e:\n",
    "        return f\"An error occurred while processing your question: {str(e)}\""
   ]
  },
  {
   "cell_type": "code",
   "execution_count": null,
   "metadata": {},
   "outputs": [],
   "source": [
    "def main():\n",
    "    print(\"Welcome to the Invoice Assistant. You can ask questions about invoice structure and terms.\")\n",
    "    print(\"Type 'quit', 'exit', or 'bye' to end the session.\\n\")\n",
    "\n",
    "    chat_history = []\n",
    "\n",
    "    while True:\n",
    "        question = get_user_question()\n",
    "        if question.lower() in ['quit', 'exit', 'bye']:\n",
    "            print(\"Thank you for using the Invoice Assistant. Goodbye!\")\n",
    "            break\n",
    "        chat_history.append(f\"User: {question}\")\n",
    "        response = process_question(question, chat_history, knowledge_base)\n",
    "        chat_history.append(f\"Assistant: {response}\")\n",
    "        print(response)\n",
    "\n",
    "if __name__ == \"__main__\":\n",
    "    main()"
   ]
  }
 ],
 "metadata": {
  "kernelspec": {
   "display_name": "Python 3",
   "language": "python",
   "name": "python3"
  },
  "language_info": {
   "codemirror_mode": {
    "name": "ipython",
    "version": 3
   },
   "file_extension": ".py",
   "mimetype": "text/x-python",
   "name": "python",
   "nbconvert_exporter": "python",
   "pygments_lexer": "ipython3",
   "version": "3.11.3"
  }
 },
 "nbformat": 4,
 "nbformat_minor": 2
}
